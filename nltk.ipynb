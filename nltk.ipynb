{
 "metadata": {
  "language_info": {
   "codemirror_mode": {
    "name": "ipython",
    "version": 3
   },
   "file_extension": ".py",
   "mimetype": "text/x-python",
   "name": "python",
   "nbconvert_exporter": "python",
   "pygments_lexer": "ipython3",
   "version": "3.8.3-final"
  },
  "orig_nbformat": 2,
  "kernelspec": {
   "name": "python38364bitbasecondafe405b4e042f431f82d437185aa356ab",
   "display_name": "Python 3.8.3 64-bit ('base': conda)"
  }
 },
 "nbformat": 4,
 "nbformat_minor": 2,
 "cells": [
  {
   "source": [
    "import nltk\n",
    "import sys \n",
    "import string \n",
    "from nltk.tokenize.treebank import TreebankWordDetokenizer as Detok\n",
    "\n",
    "# \n",
    "# BW: This script can be used to present statistics of the found words in the transcript\n",
    "#\n",
    "ontologyFile = open('ontology.txt', 'r')\n",
    "ontology = ontologyFile.read()\n",
    "ontologyWords = ontology.split()\n",
    "\n",
    "#Open output-file\n",
    "orig_stdout = sys.stdout\n",
    "f = open('out.txt', 'w')\n",
    "sys.stdout = f \n",
    "file = open('new-speakers.txt', 'r')\n",
    "\n",
    "read_file = file.read()\n",
    "#Remove puntucation \n",
    "tokenizer = nltk.RegexpTokenizer(r\"\\w+\")\n",
    "new_words = tokenizer.tokenize(read_file)\n",
    "detokenizer = Detok()\n",
    "text = detokenizer.detokenize(new_words)\n",
    "\n",
    "#Count frequencies in text\n",
    "count = {w: 0 for w in ontologyWords}\n",
    "counter = 0\n",
    "for index, word in enumerate(nltk.word_tokenize(text)):\n",
    "    counter +=1\n",
    "    if word in count:\n",
    "        for w in word.split():\n",
    "            count[w] +=1\n",
    "\n",
    "#Variables\n",
    "totalFoundWords = sum(count.values())\n",
    "totalWords = counter\n",
    "foundWords = count \n",
    "percentageFound = round((sum(count.values())/counter) * 100, 2)\n",
    "mostFreqFound = max(count, key=count.get)\n",
    "mostFreqFoundTimes = max(count.values())\n",
    "\n",
    "#Print stats \n",
    "print(\"\\n\", \"Found words and their frequency:\", foundWords, \"\\n\", \"Total found words:\", totalFoundWords, \"\\n\", \"Total words in text:\", totalWords, \"\\n\", \"Percentage found words:\", percentageFound, \"%\", \"\\n\", \"Most frequently found word:\" , mostFreqFound, \"found\", mostFreqFoundTimes, \"times\" )\n",
    "\n",
    "#Close file           \n",
    "sys.stdout = orig_stdout\n",
    "f.close()\n"
   ],
   "cell_type": "code",
   "metadata": {
    "tags": []
   },
   "execution_count": 1,
   "outputs": []
  },
  {
   "cell_type": "code",
   "execution_count": null,
   "metadata": {},
   "outputs": [],
   "source": []
  }
 ]
}